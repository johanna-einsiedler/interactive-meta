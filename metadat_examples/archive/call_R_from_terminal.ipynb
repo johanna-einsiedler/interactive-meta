{
 "cells": [
  {
   "cell_type": "code",
   "execution_count": 20,
   "metadata": {},
   "outputs": [],
   "source": [
    "import subprocess\n",
    "import os\n",
    "import pandas as pd\n",
    "import ast\n",
    "#os.environ[\"R_HOME\"] = r\"/Library/Frameworks/R.framework/Versions/4.1/Resources/\"\n",
    "\n",
    "\n",
    "#res = subprocess.call(\"/Library/Frameworks/R.framework/Versions/4.1/Resources/bin/Rscript script.r\", shell=True)\n",
    "#res"
   ]
  },
  {
   "cell_type": "code",
   "execution_count": 62,
   "metadata": {},
   "outputs": [],
   "source": [
    "arg1 ='dat.anand1999'\n",
    "with open('/Users/htr365/Documents/Side_Projects/09_founding_lab/semester_project/meta-studies/metadat_examples/test_string_input.txt', 'r') as file:\n",
    "       input = file.read()"
   ]
  },
  {
   "cell_type": "code",
   "execution_count": 63,
   "metadata": {},
   "outputs": [],
   "source": [
    "# Use ast.literal_eval to convert the string to a list\n",
    "input = ast.literal_eval(input)"
   ]
  },
  {
   "cell_type": "code",
   "execution_count": 90,
   "metadata": {},
   "outputs": [
    {
     "data": {
      "text/plain": [
       "'[{\"study_names\":\"Clausen et al, 1961\",\"measure\":1.27,\"participants\":192,\"ci_lower\":0.57,\"ci_upper\":2.86},{\"study_names\":\"Harvald et al, 1961\",\"measure\":0.86,\"participants\":316,\"ci_lower\":0.51,\"ci_upper\":1.44},{\"study_names\":\"Apenstrom and Korsan-Bengtsen, 1964\",\"measure\":0.62,\"participants\":231,\"ci_lower\":0.36,\"ci_upper\":1.06},{\"study_names\":\"Conrad et al, 1964\",\"measure\":0.68,\"participants\":86,\"ci_lower\":0.23,\"ci_upper\":2.01},{\"study_names\":\"Seaman et al, 1969\",\"measure\":1.25,\"participants\":175,\"ci_lower\":0.68,\"ci_upper\":2.31},{\"study_names\":\"Sorensen et al, 1969\",\"measure\":0.43,\"participants\":276,\"ci_lower\":0.25,\"ci_upper\":0.74},{\"study_names\":\"Sixty Plus Reinfarction, 1980\",\"measure\":0.7,\"participants\":878,\"ci_lower\":0.48,\"ci_upper\":1.04},{\"study_names\":\"WARIS, 1990\",\"measure\":0.72,\"participants\":1214,\"ci_lower\":0.54,\"ci_upper\":0.97},{\"study_names\":\"Meuwissen et al, 1969\",\"measure\":0.12,\"participants\":138,\"ci_lower\":0.01,\"ci_upper\":0.97},{\"study_names\":\"Breddin et al, 1980\",\"measure\":1.2,\"participants\":629,\"ci_lower\":0.73,\"ci_upper\":1.97},{\"study_names\":\"Breddin et al, 1980\",\"measure\":1.49,\"participants\":637,\"ci_lower\":0.89,\"ci_upper\":2.5},{\"study_names\":\"Eritsland et al, 1996\",\"measure\":0.5,\"participants\":610,\"ci_lower\":0.16,\"ci_upper\":1.51},{\"study_names\":\"ATACS, 1990\",\"measure\":4.15,\"participants\":56,\"ci_lower\":0.15,\"ci_upper\":114.45},{\"study_names\":\"Random Effects Model\",\"measure\":0.8,\"participants\":5438,\"ci_lower\":0.69,\"ci_upper\":0.93}] \\n'"
      ]
     },
     "execution_count": 90,
     "metadata": {},
     "output_type": "execute_result"
    }
   ],
   "source": [
    "out = subprocess.run(['/Library/Frameworks/R.framework/Versions/4.1/Resources/bin/Rscript', 'script.R'] + [str(arg1),str(input)], universal_newlines=True,capture_output=True )\n",
    "with open(out.stdout) as file:\n",
    "    input = file.read()\n",
    "    print(input)"
   ]
  },
  {
   "cell_type": "code",
   "execution_count": 87,
   "metadata": {},
   "outputs": [
    {
     "data": {
      "text/plain": [
       "0"
      ]
     },
     "execution_count": 87,
     "metadata": {},
     "output_type": "execute_result"
    }
   ],
   "source": [
    "out"
   ]
  },
  {
   "cell_type": "code",
   "execution_count": 2,
   "metadata": {},
   "outputs": [
    {
     "data": {
      "text/plain": [
       "'/Users/htr365/Documents/Side_Projects/09_founding_lab/semester_project/meta-studies/metadat_examples'"
      ]
     },
     "execution_count": 2,
     "metadata": {},
     "output_type": "execute_result"
    }
   ],
   "source": [
    "os.getcwd()"
   ]
  },
  {
   "cell_type": "code",
   "execution_count": null,
   "metadata": {},
   "outputs": [],
   "source": []
  }
 ],
 "metadata": {
  "kernelspec": {
   "display_name": "comp-soc-science3",
   "language": "python",
   "name": "python3"
  },
  "language_info": {
   "codemirror_mode": {
    "name": "ipython",
    "version": 3
   },
   "file_extension": ".py",
   "mimetype": "text/x-python",
   "name": "python",
   "nbconvert_exporter": "python",
   "pygments_lexer": "ipython3",
   "version": "3.11.2"
  }
 },
 "nbformat": 4,
 "nbformat_minor": 2
}
