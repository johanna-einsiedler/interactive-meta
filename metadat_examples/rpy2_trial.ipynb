{
 "cells": [
  {
   "cell_type": "code",
   "execution_count": 1,
   "metadata": {},
   "outputs": [],
   "source": [
    "import rpy2\n",
    "import os\n",
    "import pandas as pd\n",
    "import ast\n",
    "import json\n",
    "\n",
    "os.environ[\"R_HOME\"] = r\"/Library/Frameworks/R.framework/Versions/4.1/Resources/\""
   ]
  },
  {
   "cell_type": "code",
   "execution_count": 2,
   "metadata": {},
   "outputs": [],
   "source": [
    "from rpy2.robjects.packages import importr\n",
    "# import R's \"base\" package\n",
    "base = importr('base')\n",
    "\n",
    "# import R's \"utils\" package\n",
    "utils = importr('utils')\n"
   ]
  },
  {
   "cell_type": "code",
   "execution_count": 3,
   "metadata": {},
   "outputs": [],
   "source": [
    "# import rpy2's package module\n",
    "import rpy2.robjects.packages as rpackages\n",
    "\n",
    "# import R's utility package\n",
    "utils = rpackages.importr('utils')\n",
    "\n",
    "# select a mirror for R packages\n",
    "utils.chooseCRANmirror(ind=1) # select the first mirror in the list\n",
    "import rpy2.robjects as robjects"
   ]
  },
  {
   "cell_type": "code",
   "execution_count": 4,
   "metadata": {},
   "outputs": [],
   "source": [
    "import rpy2.robjects as ro\n",
    "from rpy2.robjects.packages import importr\n",
    "from rpy2.robjects import pandas2ri"
   ]
  },
  {
   "cell_type": "code",
   "execution_count": 5,
   "metadata": {},
   "outputs": [],
   "source": [
    "# R package names\n",
    "packnames = ('metafor','dplyr','metadat')\n",
    "\n",
    "# R vector of strings\n",
    "from rpy2.robjects.vectors import StrVector\n",
    "\n",
    "# Selectively install what needs to be install.\n",
    "# We are fancy, just because we can.\n",
    "names_to_install = [x for x in packnames if not rpackages.isinstalled(x)]\n",
    "if len(names_to_install) > 0:\n",
    "    utils.install_packages(StrVector(names_to_install))"
   ]
  },
  {
   "cell_type": "code",
   "execution_count": 6,
   "metadata": {},
   "outputs": [
    {
     "data": {
      "text/plain": [
       "rpy2.robjects.packages.Package as a <module 'metadat'>"
      ]
     },
     "execution_count": 6,
     "metadata": {},
     "output_type": "execute_result"
    }
   ],
   "source": [
    "importr('dplyr')\n",
    "importr('metafor')\n",
    "importr('metadat')"
   ]
  },
  {
   "cell_type": "code",
   "execution_count": 7,
   "metadata": {},
   "outputs": [],
   "source": [
    "dataset_name = 'dat.anand1999'"
   ]
  },
  {
   "cell_type": "code",
   "execution_count": 68,
   "metadata": {},
   "outputs": [],
   "source": [
    "with open('/Users/htr365/Documents/Side_Projects/09_founding_lab/semester_project/meta-studies/metadat_examples/test_string_input.txt', 'r') as file:\n",
    "       input_string = file.read()\n"
   ]
  },
  {
   "cell_type": "code",
   "execution_count": 8,
   "metadata": {},
   "outputs": [],
   "source": [
    "df = robjects.r[dataset_name]\n",
    "with (ro.default_converter + pandas2ri.converter).context():\n",
    "    df = ro.conversion.get_conversion().rpy2py(df)"
   ]
  },
  {
   "cell_type": "code",
   "execution_count": 9,
   "metadata": {},
   "outputs": [
    {
     "ename": "NameError",
     "evalue": "name 'input_string' is not defined",
     "output_type": "error",
     "traceback": [
      "\u001b[0;31m---------------------------------------------------------------------------\u001b[0m",
      "\u001b[0;31mNameError\u001b[0m                                 Traceback (most recent call last)",
      "\u001b[1;32m/Users/htr365/Documents/Side_Projects/09_founding_lab/semester_project/meta-studies/metadat_examples/rpy2_trial.ipynb Cell 10\u001b[0m line \u001b[0;36m2\n\u001b[1;32m      <a href='vscode-notebook-cell:/Users/htr365/Documents/Side_Projects/09_founding_lab/semester_project/meta-studies/metadat_examples/rpy2_trial.ipynb#X13sZmlsZQ%3D%3D?line=0'>1</a>\u001b[0m \u001b[39m# Use ast.literal_eval to convert the string to a list\u001b[39;00m\n\u001b[0;32m----> <a href='vscode-notebook-cell:/Users/htr365/Documents/Side_Projects/09_founding_lab/semester_project/meta-studies/metadat_examples/rpy2_trial.ipynb#X13sZmlsZQ%3D%3D?line=1'>2</a>\u001b[0m \u001b[39minput\u001b[39m \u001b[39m=\u001b[39m ast\u001b[39m.\u001b[39mliteral_eval(input_string)\n",
      "\u001b[0;31mNameError\u001b[0m: name 'input_string' is not defined"
     ]
    }
   ],
   "source": [
    "# Use ast.literal_eval to convert the string to a list\n",
    "input = ast.literal_eval(input_string)"
   ]
  },
  {
   "cell_type": "code",
   "execution_count": 10,
   "metadata": {},
   "outputs": [
    {
     "ename": "NameError",
     "evalue": "name 'parsed_list' is not defined",
     "output_type": "error",
     "traceback": [
      "\u001b[0;31m---------------------------------------------------------------------------\u001b[0m",
      "\u001b[0;31mNameError\u001b[0m                                 Traceback (most recent call last)",
      "\u001b[1;32m/Users/htr365/Documents/Side_Projects/09_founding_lab/semester_project/meta-studies/metadat_examples/rpy2_trial.ipynb Cell 11\u001b[0m line \u001b[0;36m1\n\u001b[0;32m----> <a href='vscode-notebook-cell:/Users/htr365/Documents/Side_Projects/09_founding_lab/semester_project/meta-studies/metadat_examples/rpy2_trial.ipynb#X14sZmlsZQ%3D%3D?line=0'>1</a>\u001b[0m parsed_list\n",
      "\u001b[0;31mNameError\u001b[0m: name 'parsed_list' is not defined"
     ]
    }
   ],
   "source": [
    "parsed_list"
   ]
  },
  {
   "cell_type": "code",
   "execution_count": 60,
   "metadata": {},
   "outputs": [
    {
     "name": "stdout",
     "output_type": "stream",
     "text": [
      "1     0\n",
      "2     0\n",
      "3     0\n",
      "4     0\n",
      "5     0\n",
      "6     0\n",
      "7     0\n",
      "8     0\n",
      "9     0\n",
      "10    0\n",
      "11    0\n",
      "12    0\n",
      "13    0\n",
      "14    0\n",
      "15    0\n",
      "16    0\n",
      "17    0\n",
      "18    0\n",
      "19    0\n",
      "20    0\n",
      "21    0\n",
      "22    0\n",
      "23    0\n",
      "24    0\n",
      "25    0\n",
      "26    0\n",
      "27    0\n",
      "28    0\n",
      "29    1\n",
      "30    1\n",
      "31    1\n",
      "32    1\n",
      "33    1\n",
      "34    1\n",
      "Name: asp.t, dtype: int32\n",
      "1         high\n",
      "2         high\n",
      "3         high\n",
      "4         high\n",
      "5         high\n",
      "6         high\n",
      "7         high\n",
      "8         high\n",
      "9         high\n",
      "10        high\n",
      "11        high\n",
      "12        high\n",
      "13        high\n",
      "14        high\n",
      "15        high\n",
      "16        high\n",
      "17        high\n",
      "18        high\n",
      "19        high\n",
      "20        high\n",
      "21        high\n",
      "22    moderate\n",
      "23    moderate\n",
      "24    moderate\n",
      "25    moderate\n",
      "26    moderate\n",
      "27    moderate\n",
      "28    moderate\n",
      "29        high\n",
      "30    moderate\n",
      "31    moderate\n",
      "32         low\n",
      "33         low\n",
      "34         low\n",
      "Name: intensity, dtype: object\n",
      "1     0\n",
      "2     0\n",
      "3     0\n",
      "4     0\n",
      "5     0\n",
      "6     0\n",
      "7     0\n",
      "8     0\n",
      "9     0\n",
      "10    0\n",
      "11    0\n",
      "12    0\n",
      "13    0\n",
      "14    0\n",
      "15    0\n",
      "16    0\n",
      "17    0\n",
      "18    1\n",
      "19    1\n",
      "20    1\n",
      "21    1\n",
      "22    1\n",
      "23    1\n",
      "24    1\n",
      "25    0\n",
      "26    0\n",
      "27    0\n",
      "28    0\n",
      "29    1\n",
      "30    1\n",
      "31    1\n",
      "32    1\n",
      "33    1\n",
      "34    1\n",
      "Name: asp.c, dtype: int32\n",
      "1                   MacMillan et al\n",
      "2                     Borchegrevink\n",
      "3                     Clausen et al\n",
      "4                     Harvald et al\n",
      "5     Apenstrom and Korsan-Bengtsen\n",
      "6                      Conrad et al\n",
      "7                   Wasserman et al\n",
      "8                    Loeliger et al\n",
      "9                      Lovell et al\n",
      "10                     Seaman et al\n",
      "11                   Sorensen et al\n",
      "12          Sixty Plus Reinfarction\n",
      "13                            WARIS\n",
      "14                           ASPECT\n",
      "15                  Meuwissen et al\n",
      "16              Drapkin and Merskey\n",
      "17                    Breddin et al\n",
      "18                    Breddin et al\n",
      "19                          CABADAS\n",
      "20                  Eritsland et al\n",
      "21                            ATACS\n",
      "22                    McEnany et al\n",
      "23                     Kraska et al\n",
      "24                            EPSIM\n",
      "25                             COOP\n",
      "26                MRC Anticoagulant\n",
      "27                   Williams et al\n",
      "28                    McEnany et al\n",
      "29                            ATACS\n",
      "30                    OASIS Pilot 2\n",
      "31                       ATACS-Main\n",
      "32                      OASIS Pilot\n",
      "33                        Post-CABG\n",
      "34                             CARS\n",
      "Name: study, dtype: object\n"
     ]
    }
   ],
   "source": [
    "for i in range(0,len(parsed_list)):\n",
    "    id = input[i]['id']\n",
    "    values = input[i]['values']\n",
    "    \n",
    "    r_string = \"\n",
    "    \"\n",
    "\n"
   ]
  },
  {
   "cell_type": "code",
   "execution_count": 47,
   "metadata": {},
   "outputs": [
    {
     "data": {
      "text/plain": [
       "'[{  \"id\": \"asp.t\",  \"description\": \"concomitant use of aspirin in the treatment group (0 = no, 1 = yes)\",  \"display_name\":   \"Additional Medication in the Treatment Group\",   \"type\": \"numeric\",  \"values\": [0,1],  \"display_values\": [\"No\",\"Aspirin\"],  \"display\": \"true\"  },{\"id\": \"intensity\",\"description\": \"intensity of anticoagulation (low, medium, or high\",\"display_name\": \"Intensity\", \"type\": \"character\",\"values\": [\"high\"],\"display_values\": [\"High-Intesity OA\",],\"display\": \"true\"},{  \"id\": \"asp.c\",  \"description\": \"concomitant use of aspirin in the control group (0 = no, 1 = yes)\",  \"display_name\": \"Additional Medication in the Control Group\",   \"type\": \"numeric\",  \"values\": [0,1],  \"display_values\": [\"No\",\"Aspirin\"],  \"display\": \"true\"},{  \"id\": \"study\",  \"description\": \"author(s) or trial name\",  \"display_name\": \"Study\",   \"type\": \"character\",  \"values\": [160,1961,1964,1969],  \"display_values\": \"\",  \"display\": \"true\"}]'"
      ]
     },
     "execution_count": 47,
     "metadata": {},
     "output_type": "execute_result"
    }
   ],
   "source": [
    "data"
   ]
  },
  {
   "cell_type": "code",
   "execution_count": null,
   "metadata": {},
   "outputs": [],
   "source": []
  }
 ],
 "metadata": {
  "kernelspec": {
   "display_name": "comp-soc-science3",
   "language": "python",
   "name": "python3"
  },
  "language_info": {
   "codemirror_mode": {
    "name": "ipython",
    "version": 3
   },
   "file_extension": ".py",
   "mimetype": "text/x-python",
   "name": "python",
   "nbconvert_exporter": "python",
   "pygments_lexer": "ipython3",
   "version": "3.11.2"
  }
 },
 "nbformat": 4,
 "nbformat_minor": 2
}
